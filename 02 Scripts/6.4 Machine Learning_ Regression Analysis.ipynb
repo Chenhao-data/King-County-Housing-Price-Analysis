{
 "cells": [
  {
   "cell_type": "markdown",
   "id": "e2285758",
   "metadata": {},
   "source": [
    "# STEP1 Import scikit-learn library"
   ]
  },
  {
   "cell_type": "code",
   "execution_count": 1,
   "id": "8e093e76",
   "metadata": {},
   "outputs": [],
   "source": [
    "import sklearn"
   ]
  },
  {
   "cell_type": "markdown",
   "id": "8c7eab2f",
   "metadata": {},
   "source": [
    " # STEP2 Importing other libraries and data"
   ]
  },
  {
   "cell_type": "code",
   "execution_count": 2,
   "id": "fc6cf7c8",
   "metadata": {},
   "outputs": [],
   "source": [
    "import pandas as pd\n",
    "import numpy as np\n",
    "import seaborn as sns\n",
    "import matplotlib\n",
    "import matplotlib.pyplot as plt\n",
    "import os\n",
    "from sklearn.model_selection import train_test_split \n",
    "from sklearn.linear_model import LinearRegression\n",
    "from sklearn.metrics import mean_squared_error, r2_score"
   ]
  },
  {
   "cell_type": "code",
   "execution_count": 2,
   "id": "e00136d7",
   "metadata": {},
   "outputs": [],
   "source": [
    "path=r\"C:\\Users\\chenh\\z_Careerfoundry\\Achievements 6\"\n",
    "df=pd.read_csv(os.path.join(path,'kc_house_clean.csv'))"
   ]
  },
  {
   "cell_type": "markdown",
   "id": "ea76a91c",
   "metadata": {},
   "source": [
    "# STEP3 Data cleaning"
   ]
  },
  {
   "cell_type": "code",
   "execution_count": 3,
   "id": "af38afdc",
   "metadata": {},
   "outputs": [
    {
     "data": {
      "text/plain": [
       "Index(['Unnamed: 0', 'id', 'date', 'price', 'bedrooms', 'bathrooms',\n",
       "       'sqft_living', 'sqft_lot', 'floors', 'waterfront', 'view', 'condition',\n",
       "       'grade', 'sqft_above', 'sqft_basement', 'yr_built', 'yr_renovated',\n",
       "       'zipcode', 'lat', 'long'],\n",
       "      dtype='object')"
      ]
     },
     "execution_count": 3,
     "metadata": {},
     "output_type": "execute_result"
    }
   ],
   "source": [
    "df.columns"
   ]
  },
  {
   "cell_type": "code",
   "execution_count": 4,
   "id": "4347f59c",
   "metadata": {},
   "outputs": [
    {
     "data": {
      "text/html": [
       "<div>\n",
       "<style scoped>\n",
       "    .dataframe tbody tr th:only-of-type {\n",
       "        vertical-align: middle;\n",
       "    }\n",
       "\n",
       "    .dataframe tbody tr th {\n",
       "        vertical-align: top;\n",
       "    }\n",
       "\n",
       "    .dataframe thead th {\n",
       "        text-align: right;\n",
       "    }\n",
       "</style>\n",
       "<table border=\"1\" class=\"dataframe\">\n",
       "  <thead>\n",
       "    <tr style=\"text-align: right;\">\n",
       "      <th></th>\n",
       "      <th>Unnamed: 0</th>\n",
       "      <th>id</th>\n",
       "      <th>date</th>\n",
       "      <th>price</th>\n",
       "      <th>bedrooms</th>\n",
       "      <th>bathrooms</th>\n",
       "      <th>sqft_living</th>\n",
       "      <th>sqft_lot</th>\n",
       "      <th>floors</th>\n",
       "      <th>waterfront</th>\n",
       "      <th>view</th>\n",
       "      <th>condition</th>\n",
       "      <th>grade</th>\n",
       "      <th>sqft_above</th>\n",
       "      <th>sqft_basement</th>\n",
       "      <th>yr_built</th>\n",
       "      <th>yr_renovated</th>\n",
       "      <th>zipcode</th>\n",
       "      <th>lat</th>\n",
       "      <th>long</th>\n",
       "    </tr>\n",
       "  </thead>\n",
       "  <tbody>\n",
       "    <tr>\n",
       "      <th>0</th>\n",
       "      <td>0</td>\n",
       "      <td>7129300520</td>\n",
       "      <td>20141013T000000</td>\n",
       "      <td>221900.0</td>\n",
       "      <td>3</td>\n",
       "      <td>1.00</td>\n",
       "      <td>1180</td>\n",
       "      <td>5650</td>\n",
       "      <td>1.0</td>\n",
       "      <td>0</td>\n",
       "      <td>0</td>\n",
       "      <td>3</td>\n",
       "      <td>7</td>\n",
       "      <td>1180</td>\n",
       "      <td>0</td>\n",
       "      <td>1955</td>\n",
       "      <td>0</td>\n",
       "      <td>98178</td>\n",
       "      <td>47.5112</td>\n",
       "      <td>-122.257</td>\n",
       "    </tr>\n",
       "    <tr>\n",
       "      <th>1</th>\n",
       "      <td>1</td>\n",
       "      <td>6414100192</td>\n",
       "      <td>20141209T000000</td>\n",
       "      <td>538000.0</td>\n",
       "      <td>3</td>\n",
       "      <td>2.25</td>\n",
       "      <td>2570</td>\n",
       "      <td>7242</td>\n",
       "      <td>2.0</td>\n",
       "      <td>0</td>\n",
       "      <td>0</td>\n",
       "      <td>3</td>\n",
       "      <td>7</td>\n",
       "      <td>2170</td>\n",
       "      <td>400</td>\n",
       "      <td>1951</td>\n",
       "      <td>1991</td>\n",
       "      <td>98125</td>\n",
       "      <td>47.7210</td>\n",
       "      <td>-122.319</td>\n",
       "    </tr>\n",
       "    <tr>\n",
       "      <th>2</th>\n",
       "      <td>2</td>\n",
       "      <td>5631500400</td>\n",
       "      <td>20150225T000000</td>\n",
       "      <td>180000.0</td>\n",
       "      <td>2</td>\n",
       "      <td>1.00</td>\n",
       "      <td>770</td>\n",
       "      <td>10000</td>\n",
       "      <td>1.0</td>\n",
       "      <td>0</td>\n",
       "      <td>0</td>\n",
       "      <td>3</td>\n",
       "      <td>6</td>\n",
       "      <td>770</td>\n",
       "      <td>0</td>\n",
       "      <td>1933</td>\n",
       "      <td>0</td>\n",
       "      <td>98028</td>\n",
       "      <td>47.7379</td>\n",
       "      <td>-122.233</td>\n",
       "    </tr>\n",
       "    <tr>\n",
       "      <th>3</th>\n",
       "      <td>3</td>\n",
       "      <td>2487200875</td>\n",
       "      <td>20141209T000000</td>\n",
       "      <td>604000.0</td>\n",
       "      <td>4</td>\n",
       "      <td>3.00</td>\n",
       "      <td>1960</td>\n",
       "      <td>5000</td>\n",
       "      <td>1.0</td>\n",
       "      <td>0</td>\n",
       "      <td>0</td>\n",
       "      <td>5</td>\n",
       "      <td>7</td>\n",
       "      <td>1050</td>\n",
       "      <td>910</td>\n",
       "      <td>1965</td>\n",
       "      <td>0</td>\n",
       "      <td>98136</td>\n",
       "      <td>47.5208</td>\n",
       "      <td>-122.393</td>\n",
       "    </tr>\n",
       "    <tr>\n",
       "      <th>4</th>\n",
       "      <td>4</td>\n",
       "      <td>1954400510</td>\n",
       "      <td>20150218T000000</td>\n",
       "      <td>510000.0</td>\n",
       "      <td>3</td>\n",
       "      <td>2.00</td>\n",
       "      <td>1680</td>\n",
       "      <td>8080</td>\n",
       "      <td>1.0</td>\n",
       "      <td>0</td>\n",
       "      <td>0</td>\n",
       "      <td>3</td>\n",
       "      <td>8</td>\n",
       "      <td>1680</td>\n",
       "      <td>0</td>\n",
       "      <td>1987</td>\n",
       "      <td>0</td>\n",
       "      <td>98074</td>\n",
       "      <td>47.6168</td>\n",
       "      <td>-122.045</td>\n",
       "    </tr>\n",
       "    <tr>\n",
       "      <th>5</th>\n",
       "      <td>5</td>\n",
       "      <td>7237550310</td>\n",
       "      <td>20140512T000000</td>\n",
       "      <td>1230000.0</td>\n",
       "      <td>4</td>\n",
       "      <td>4.50</td>\n",
       "      <td>5420</td>\n",
       "      <td>101930</td>\n",
       "      <td>1.0</td>\n",
       "      <td>0</td>\n",
       "      <td>0</td>\n",
       "      <td>3</td>\n",
       "      <td>11</td>\n",
       "      <td>3890</td>\n",
       "      <td>1530</td>\n",
       "      <td>2001</td>\n",
       "      <td>0</td>\n",
       "      <td>98053</td>\n",
       "      <td>47.6561</td>\n",
       "      <td>-122.005</td>\n",
       "    </tr>\n",
       "    <tr>\n",
       "      <th>6</th>\n",
       "      <td>6</td>\n",
       "      <td>1321400060</td>\n",
       "      <td>20140627T000000</td>\n",
       "      <td>257500.0</td>\n",
       "      <td>3</td>\n",
       "      <td>2.25</td>\n",
       "      <td>1715</td>\n",
       "      <td>6819</td>\n",
       "      <td>2.0</td>\n",
       "      <td>0</td>\n",
       "      <td>0</td>\n",
       "      <td>3</td>\n",
       "      <td>7</td>\n",
       "      <td>1715</td>\n",
       "      <td>0</td>\n",
       "      <td>1995</td>\n",
       "      <td>0</td>\n",
       "      <td>98003</td>\n",
       "      <td>47.3097</td>\n",
       "      <td>-122.327</td>\n",
       "    </tr>\n",
       "    <tr>\n",
       "      <th>7</th>\n",
       "      <td>7</td>\n",
       "      <td>2008000270</td>\n",
       "      <td>20150115T000000</td>\n",
       "      <td>291850.0</td>\n",
       "      <td>3</td>\n",
       "      <td>1.50</td>\n",
       "      <td>1060</td>\n",
       "      <td>9711</td>\n",
       "      <td>1.0</td>\n",
       "      <td>0</td>\n",
       "      <td>0</td>\n",
       "      <td>3</td>\n",
       "      <td>7</td>\n",
       "      <td>1060</td>\n",
       "      <td>0</td>\n",
       "      <td>1963</td>\n",
       "      <td>0</td>\n",
       "      <td>98198</td>\n",
       "      <td>47.4095</td>\n",
       "      <td>-122.315</td>\n",
       "    </tr>\n",
       "    <tr>\n",
       "      <th>8</th>\n",
       "      <td>8</td>\n",
       "      <td>2414600126</td>\n",
       "      <td>20150415T000000</td>\n",
       "      <td>229500.0</td>\n",
       "      <td>3</td>\n",
       "      <td>1.00</td>\n",
       "      <td>1780</td>\n",
       "      <td>7470</td>\n",
       "      <td>1.0</td>\n",
       "      <td>0</td>\n",
       "      <td>0</td>\n",
       "      <td>3</td>\n",
       "      <td>7</td>\n",
       "      <td>1050</td>\n",
       "      <td>730</td>\n",
       "      <td>1960</td>\n",
       "      <td>0</td>\n",
       "      <td>98146</td>\n",
       "      <td>47.5123</td>\n",
       "      <td>-122.337</td>\n",
       "    </tr>\n",
       "    <tr>\n",
       "      <th>9</th>\n",
       "      <td>9</td>\n",
       "      <td>3793500160</td>\n",
       "      <td>20150312T000000</td>\n",
       "      <td>323000.0</td>\n",
       "      <td>3</td>\n",
       "      <td>2.50</td>\n",
       "      <td>1890</td>\n",
       "      <td>6560</td>\n",
       "      <td>2.0</td>\n",
       "      <td>0</td>\n",
       "      <td>0</td>\n",
       "      <td>3</td>\n",
       "      <td>7</td>\n",
       "      <td>1890</td>\n",
       "      <td>0</td>\n",
       "      <td>2003</td>\n",
       "      <td>0</td>\n",
       "      <td>98038</td>\n",
       "      <td>47.3684</td>\n",
       "      <td>-122.031</td>\n",
       "    </tr>\n",
       "    <tr>\n",
       "      <th>10</th>\n",
       "      <td>10</td>\n",
       "      <td>1736800520</td>\n",
       "      <td>20150403T000000</td>\n",
       "      <td>662500.0</td>\n",
       "      <td>3</td>\n",
       "      <td>2.50</td>\n",
       "      <td>3560</td>\n",
       "      <td>9796</td>\n",
       "      <td>1.0</td>\n",
       "      <td>0</td>\n",
       "      <td>0</td>\n",
       "      <td>3</td>\n",
       "      <td>8</td>\n",
       "      <td>1860</td>\n",
       "      <td>1700</td>\n",
       "      <td>1965</td>\n",
       "      <td>0</td>\n",
       "      <td>98007</td>\n",
       "      <td>47.6007</td>\n",
       "      <td>-122.145</td>\n",
       "    </tr>\n",
       "    <tr>\n",
       "      <th>11</th>\n",
       "      <td>11</td>\n",
       "      <td>9212900260</td>\n",
       "      <td>20140527T000000</td>\n",
       "      <td>468000.0</td>\n",
       "      <td>2</td>\n",
       "      <td>1.00</td>\n",
       "      <td>1160</td>\n",
       "      <td>6000</td>\n",
       "      <td>1.0</td>\n",
       "      <td>0</td>\n",
       "      <td>0</td>\n",
       "      <td>4</td>\n",
       "      <td>7</td>\n",
       "      <td>860</td>\n",
       "      <td>300</td>\n",
       "      <td>1942</td>\n",
       "      <td>0</td>\n",
       "      <td>98115</td>\n",
       "      <td>47.6900</td>\n",
       "      <td>-122.292</td>\n",
       "    </tr>\n",
       "    <tr>\n",
       "      <th>12</th>\n",
       "      <td>12</td>\n",
       "      <td>114101516</td>\n",
       "      <td>20140528T000000</td>\n",
       "      <td>310000.0</td>\n",
       "      <td>3</td>\n",
       "      <td>1.00</td>\n",
       "      <td>1430</td>\n",
       "      <td>19901</td>\n",
       "      <td>1.5</td>\n",
       "      <td>0</td>\n",
       "      <td>0</td>\n",
       "      <td>4</td>\n",
       "      <td>7</td>\n",
       "      <td>1430</td>\n",
       "      <td>0</td>\n",
       "      <td>1927</td>\n",
       "      <td>0</td>\n",
       "      <td>98028</td>\n",
       "      <td>47.7558</td>\n",
       "      <td>-122.229</td>\n",
       "    </tr>\n",
       "    <tr>\n",
       "      <th>13</th>\n",
       "      <td>13</td>\n",
       "      <td>6054650070</td>\n",
       "      <td>20141007T000000</td>\n",
       "      <td>400000.0</td>\n",
       "      <td>3</td>\n",
       "      <td>1.75</td>\n",
       "      <td>1370</td>\n",
       "      <td>9680</td>\n",
       "      <td>1.0</td>\n",
       "      <td>0</td>\n",
       "      <td>0</td>\n",
       "      <td>4</td>\n",
       "      <td>7</td>\n",
       "      <td>1370</td>\n",
       "      <td>0</td>\n",
       "      <td>1977</td>\n",
       "      <td>0</td>\n",
       "      <td>98074</td>\n",
       "      <td>47.6127</td>\n",
       "      <td>-122.045</td>\n",
       "    </tr>\n",
       "    <tr>\n",
       "      <th>14</th>\n",
       "      <td>14</td>\n",
       "      <td>1175000570</td>\n",
       "      <td>20150312T000000</td>\n",
       "      <td>530000.0</td>\n",
       "      <td>5</td>\n",
       "      <td>2.00</td>\n",
       "      <td>1810</td>\n",
       "      <td>4850</td>\n",
       "      <td>1.5</td>\n",
       "      <td>0</td>\n",
       "      <td>0</td>\n",
       "      <td>3</td>\n",
       "      <td>7</td>\n",
       "      <td>1810</td>\n",
       "      <td>0</td>\n",
       "      <td>1900</td>\n",
       "      <td>0</td>\n",
       "      <td>98107</td>\n",
       "      <td>47.6700</td>\n",
       "      <td>-122.394</td>\n",
       "    </tr>\n",
       "    <tr>\n",
       "      <th>15</th>\n",
       "      <td>15</td>\n",
       "      <td>9297300055</td>\n",
       "      <td>20150124T000000</td>\n",
       "      <td>650000.0</td>\n",
       "      <td>4</td>\n",
       "      <td>3.00</td>\n",
       "      <td>2950</td>\n",
       "      <td>5000</td>\n",
       "      <td>2.0</td>\n",
       "      <td>0</td>\n",
       "      <td>3</td>\n",
       "      <td>3</td>\n",
       "      <td>9</td>\n",
       "      <td>1980</td>\n",
       "      <td>970</td>\n",
       "      <td>1979</td>\n",
       "      <td>0</td>\n",
       "      <td>98126</td>\n",
       "      <td>47.5714</td>\n",
       "      <td>-122.375</td>\n",
       "    </tr>\n",
       "    <tr>\n",
       "      <th>16</th>\n",
       "      <td>16</td>\n",
       "      <td>1875500060</td>\n",
       "      <td>20140731T000000</td>\n",
       "      <td>395000.0</td>\n",
       "      <td>3</td>\n",
       "      <td>2.00</td>\n",
       "      <td>1890</td>\n",
       "      <td>14040</td>\n",
       "      <td>2.0</td>\n",
       "      <td>0</td>\n",
       "      <td>0</td>\n",
       "      <td>3</td>\n",
       "      <td>7</td>\n",
       "      <td>1890</td>\n",
       "      <td>0</td>\n",
       "      <td>1994</td>\n",
       "      <td>0</td>\n",
       "      <td>98019</td>\n",
       "      <td>47.7277</td>\n",
       "      <td>-121.962</td>\n",
       "    </tr>\n",
       "    <tr>\n",
       "      <th>17</th>\n",
       "      <td>17</td>\n",
       "      <td>6865200140</td>\n",
       "      <td>20140529T000000</td>\n",
       "      <td>485000.0</td>\n",
       "      <td>4</td>\n",
       "      <td>1.00</td>\n",
       "      <td>1600</td>\n",
       "      <td>4300</td>\n",
       "      <td>1.5</td>\n",
       "      <td>0</td>\n",
       "      <td>0</td>\n",
       "      <td>4</td>\n",
       "      <td>7</td>\n",
       "      <td>1600</td>\n",
       "      <td>0</td>\n",
       "      <td>1916</td>\n",
       "      <td>0</td>\n",
       "      <td>98103</td>\n",
       "      <td>47.6648</td>\n",
       "      <td>-122.343</td>\n",
       "    </tr>\n",
       "    <tr>\n",
       "      <th>18</th>\n",
       "      <td>18</td>\n",
       "      <td>16000397</td>\n",
       "      <td>20141205T000000</td>\n",
       "      <td>189000.0</td>\n",
       "      <td>2</td>\n",
       "      <td>1.00</td>\n",
       "      <td>1200</td>\n",
       "      <td>9850</td>\n",
       "      <td>1.0</td>\n",
       "      <td>0</td>\n",
       "      <td>0</td>\n",
       "      <td>4</td>\n",
       "      <td>7</td>\n",
       "      <td>1200</td>\n",
       "      <td>0</td>\n",
       "      <td>1921</td>\n",
       "      <td>0</td>\n",
       "      <td>98002</td>\n",
       "      <td>47.3089</td>\n",
       "      <td>-122.210</td>\n",
       "    </tr>\n",
       "    <tr>\n",
       "      <th>19</th>\n",
       "      <td>19</td>\n",
       "      <td>7983200060</td>\n",
       "      <td>20150424T000000</td>\n",
       "      <td>230000.0</td>\n",
       "      <td>3</td>\n",
       "      <td>1.00</td>\n",
       "      <td>1250</td>\n",
       "      <td>9774</td>\n",
       "      <td>1.0</td>\n",
       "      <td>0</td>\n",
       "      <td>0</td>\n",
       "      <td>4</td>\n",
       "      <td>7</td>\n",
       "      <td>1250</td>\n",
       "      <td>0</td>\n",
       "      <td>1969</td>\n",
       "      <td>0</td>\n",
       "      <td>98003</td>\n",
       "      <td>47.3343</td>\n",
       "      <td>-122.306</td>\n",
       "    </tr>\n",
       "  </tbody>\n",
       "</table>\n",
       "</div>"
      ],
      "text/plain": [
       "    Unnamed: 0          id             date      price  bedrooms  bathrooms  \\\n",
       "0            0  7129300520  20141013T000000   221900.0         3       1.00   \n",
       "1            1  6414100192  20141209T000000   538000.0         3       2.25   \n",
       "2            2  5631500400  20150225T000000   180000.0         2       1.00   \n",
       "3            3  2487200875  20141209T000000   604000.0         4       3.00   \n",
       "4            4  1954400510  20150218T000000   510000.0         3       2.00   \n",
       "5            5  7237550310  20140512T000000  1230000.0         4       4.50   \n",
       "6            6  1321400060  20140627T000000   257500.0         3       2.25   \n",
       "7            7  2008000270  20150115T000000   291850.0         3       1.50   \n",
       "8            8  2414600126  20150415T000000   229500.0         3       1.00   \n",
       "9            9  3793500160  20150312T000000   323000.0         3       2.50   \n",
       "10          10  1736800520  20150403T000000   662500.0         3       2.50   \n",
       "11          11  9212900260  20140527T000000   468000.0         2       1.00   \n",
       "12          12   114101516  20140528T000000   310000.0         3       1.00   \n",
       "13          13  6054650070  20141007T000000   400000.0         3       1.75   \n",
       "14          14  1175000570  20150312T000000   530000.0         5       2.00   \n",
       "15          15  9297300055  20150124T000000   650000.0         4       3.00   \n",
       "16          16  1875500060  20140731T000000   395000.0         3       2.00   \n",
       "17          17  6865200140  20140529T000000   485000.0         4       1.00   \n",
       "18          18    16000397  20141205T000000   189000.0         2       1.00   \n",
       "19          19  7983200060  20150424T000000   230000.0         3       1.00   \n",
       "\n",
       "    sqft_living  sqft_lot  floors  waterfront  view  condition  grade  \\\n",
       "0          1180      5650     1.0           0     0          3      7   \n",
       "1          2570      7242     2.0           0     0          3      7   \n",
       "2           770     10000     1.0           0     0          3      6   \n",
       "3          1960      5000     1.0           0     0          5      7   \n",
       "4          1680      8080     1.0           0     0          3      8   \n",
       "5          5420    101930     1.0           0     0          3     11   \n",
       "6          1715      6819     2.0           0     0          3      7   \n",
       "7          1060      9711     1.0           0     0          3      7   \n",
       "8          1780      7470     1.0           0     0          3      7   \n",
       "9          1890      6560     2.0           0     0          3      7   \n",
       "10         3560      9796     1.0           0     0          3      8   \n",
       "11         1160      6000     1.0           0     0          4      7   \n",
       "12         1430     19901     1.5           0     0          4      7   \n",
       "13         1370      9680     1.0           0     0          4      7   \n",
       "14         1810      4850     1.5           0     0          3      7   \n",
       "15         2950      5000     2.0           0     3          3      9   \n",
       "16         1890     14040     2.0           0     0          3      7   \n",
       "17         1600      4300     1.5           0     0          4      7   \n",
       "18         1200      9850     1.0           0     0          4      7   \n",
       "19         1250      9774     1.0           0     0          4      7   \n",
       "\n",
       "    sqft_above  sqft_basement  yr_built  yr_renovated  zipcode      lat  \\\n",
       "0         1180              0      1955             0    98178  47.5112   \n",
       "1         2170            400      1951          1991    98125  47.7210   \n",
       "2          770              0      1933             0    98028  47.7379   \n",
       "3         1050            910      1965             0    98136  47.5208   \n",
       "4         1680              0      1987             0    98074  47.6168   \n",
       "5         3890           1530      2001             0    98053  47.6561   \n",
       "6         1715              0      1995             0    98003  47.3097   \n",
       "7         1060              0      1963             0    98198  47.4095   \n",
       "8         1050            730      1960             0    98146  47.5123   \n",
       "9         1890              0      2003             0    98038  47.3684   \n",
       "10        1860           1700      1965             0    98007  47.6007   \n",
       "11         860            300      1942             0    98115  47.6900   \n",
       "12        1430              0      1927             0    98028  47.7558   \n",
       "13        1370              0      1977             0    98074  47.6127   \n",
       "14        1810              0      1900             0    98107  47.6700   \n",
       "15        1980            970      1979             0    98126  47.5714   \n",
       "16        1890              0      1994             0    98019  47.7277   \n",
       "17        1600              0      1916             0    98103  47.6648   \n",
       "18        1200              0      1921             0    98002  47.3089   \n",
       "19        1250              0      1969             0    98003  47.3343   \n",
       "\n",
       "       long  \n",
       "0  -122.257  \n",
       "1  -122.319  \n",
       "2  -122.233  \n",
       "3  -122.393  \n",
       "4  -122.045  \n",
       "5  -122.005  \n",
       "6  -122.327  \n",
       "7  -122.315  \n",
       "8  -122.337  \n",
       "9  -122.031  \n",
       "10 -122.145  \n",
       "11 -122.292  \n",
       "12 -122.229  \n",
       "13 -122.045  \n",
       "14 -122.394  \n",
       "15 -122.375  \n",
       "16 -121.962  \n",
       "17 -122.343  \n",
       "18 -122.210  \n",
       "19 -122.306  "
      ]
     },
     "execution_count": 4,
     "metadata": {},
     "output_type": "execute_result"
    }
   ],
   "source": [
    "df.head(20)"
   ]
  },
  {
   "cell_type": "code",
   "execution_count": 5,
   "id": "6ff07dd1",
   "metadata": {},
   "outputs": [
    {
     "data": {
      "text/plain": [
       "(21613, 20)"
      ]
     },
     "execution_count": 5,
     "metadata": {},
     "output_type": "execute_result"
    }
   ],
   "source": [
    "df.shape"
   ]
  },
  {
   "cell_type": "code",
   "execution_count": 6,
   "id": "0e4a7feb",
   "metadata": {},
   "outputs": [
    {
     "data": {
      "text/plain": [
       "Unnamed: 0       0\n",
       "id               0\n",
       "date             0\n",
       "price            0\n",
       "bedrooms         0\n",
       "bathrooms        0\n",
       "sqft_living      0\n",
       "sqft_lot         0\n",
       "floors           0\n",
       "waterfront       0\n",
       "view             0\n",
       "condition        0\n",
       "grade            0\n",
       "sqft_above       0\n",
       "sqft_basement    0\n",
       "yr_built         0\n",
       "yr_renovated     0\n",
       "zipcode          0\n",
       "lat              0\n",
       "long             0\n",
       "dtype: int64"
      ]
     },
     "execution_count": 6,
     "metadata": {},
     "output_type": "execute_result"
    }
   ],
   "source": [
    "df.isnull().sum()"
   ]
  },
  {
   "cell_type": "markdown",
   "id": "f1fe7fa5",
   "metadata": {},
   "source": [
    "# STEP4 Explore your data visually"
   ]
  },
  {
   "cell_type": "code",
   "execution_count": 7,
   "id": "7354fc2d",
   "metadata": {},
   "outputs": [],
   "source": [
    "# Choose the variable sqft_living, which has the strongest correlation with price, to perform the regression analysis."
   ]
  },
  {
   "cell_type": "code",
   "execution_count": 8,
   "id": "b619bd60",
   "metadata": {},
   "outputs": [
    {
     "data": {
      "image/png": "[encoded data removed]",
      "text/plain": [
       "<Figure size 432x288 with 1 Axes>"
      ]
     },
     "metadata": {
      "needs_background": "light"
     },
     "output_type": "display_data"
    }
   ],
   "source": [
    "# Create a scatterplot.\n",
    "\n",
    "df.plot(x = 'sqft_living', y='price',style='o') \n",
    "plt.title('House Living SQFT vs House Price')  \n",
    "plt.xlabel('House Living SQFT')  \n",
    "plt.ylabel('House Price')  \n",
    "plt.show()"
   ]
  },
  {
   "cell_type": "markdown",
   "id": "61339219",
   "metadata": {},
   "source": [
    "# STEP5 Hypothesis "
   ]
  },
  {
   "cell_type": "markdown",
   "id": "42801207",
   "metadata": {},
   "source": [
    "If a house has a larger square footage, then the home's price will be greater."
   ]
  },
  {
   "cell_type": "markdown",
   "id": "4ab28ff1",
   "metadata": {},
   "source": [
    "# STEP6 Reshape the variables into NumPy arrays"
   ]
  },
  {
   "cell_type": "code",
   "execution_count": 9,
   "id": "cb7163fd",
   "metadata": {},
   "outputs": [],
   "source": [
    "X = df['sqft_living'].values.reshape(-1,1)\n",
    "y = df['price'].values.reshape(-1,1)"
   ]
  },
  {
   "cell_type": "code",
   "execution_count": 10,
   "id": "c333960b",
   "metadata": {},
   "outputs": [
    {
     "data": {
      "text/plain": [
       "array([[1180],\n",
       "       [2570],\n",
       "       [ 770],\n",
       "       ...,\n",
       "       [1020],\n",
       "       [1600],\n",
       "       [1020]], dtype=int64)"
      ]
     },
     "execution_count": 10,
     "metadata": {},
     "output_type": "execute_result"
    }
   ],
   "source": [
    "X"
   ]
  },
  {
   "cell_type": "code",
   "execution_count": 12,
   "id": "f1fc76d1",
   "metadata": {},
   "outputs": [
    {
     "data": {
      "text/plain": [
       "array([[221900.],\n",
       "       [538000.],\n",
       "       [180000.],\n",
       "       ...,\n",
       "       [402101.],\n",
       "       [400000.],\n",
       "       [325000.]])"
      ]
     },
     "execution_count": 12,
     "metadata": {},
     "output_type": "execute_result"
    }
   ],
   "source": [
    "y"
   ]
  },
  {
   "cell_type": "markdown",
   "id": "5abad6fc",
   "metadata": {},
   "source": [
    "# STEP7 Split the data into two sets"
   ]
  },
  {
   "cell_type": "code",
   "execution_count": 13,
   "id": "cc9ccec9",
   "metadata": {},
   "outputs": [],
   "source": [
    "X_train, X_test, y_train, y_test = train_test_split(X, y, test_size=0.3, random_state=0)"
   ]
  },
  {
   "cell_type": "markdown",
   "id": "aa36c97d",
   "metadata": {},
   "source": [
    "# STEP8 Run a linear regression"
   ]
  },
  {
   "cell_type": "markdown",
   "id": "39e8cf5f",
   "metadata": {},
   "source": [
    "## Create a regression object."
   ]
  },
  {
   "cell_type": "code",
   "execution_count": 14,
   "id": "72595398",
   "metadata": {},
   "outputs": [],
   "source": [
    "regression = LinearRegression()"
   ]
  },
  {
   "cell_type": "markdown",
   "id": "f106cb22",
   "metadata": {},
   "source": [
    "## Fit the regression object onto the training set."
   ]
  },
  {
   "cell_type": "code",
   "execution_count": 15,
   "id": "20edefec",
   "metadata": {},
   "outputs": [
    {
     "data": {
      "text/plain": [
       "LinearRegression()"
      ]
     },
     "execution_count": 15,
     "metadata": {},
     "output_type": "execute_result"
    }
   ],
   "source": [
    "regression.fit(X_train, y_train)"
   ]
  },
  {
   "cell_type": "markdown",
   "id": "e7c7d450",
   "metadata": {},
   "source": [
    "## Predict the values of y using X."
   ]
  },
  {
   "cell_type": "code",
   "execution_count": 16,
   "id": "797b1ac2",
   "metadata": {},
   "outputs": [],
   "source": [
    "y_predicted = regression.predict(X_test)"
   ]
  },
  {
   "cell_type": "markdown",
   "id": "1c11b283",
   "metadata": {},
   "source": [
    "# STEP9 Create a plot that shows the regression line"
   ]
  },
  {
   "cell_type": "code",
   "execution_count": 17,
   "id": "616abfe2",
   "metadata": {
    "scrolled": true
   },
   "outputs": [
    {
     "data": {
      "image/png": "[encoded data removed]",
      "text/plain": [
       "<Figure size 432x288 with 1 Axes>"
      ]
     },
     "metadata": {
      "needs_background": "light"
     },
     "output_type": "display_data"
    }
   ],
   "source": [
    "plot_test = plt\n",
    "plot_test.scatter(X_test, y_test, color='gray', s = 15)\n",
    "plot_test.plot(X_test, y_predicted, color='red', linewidth =3)\n",
    "plot_test.title('House Living SQFT vs House Price(Test set)')\n",
    "plot_test.xlabel('House Living SQFT')\n",
    "plot_test.ylabel('House Price')\n",
    "plot_test.show()"
   ]
  },
  {
   "cell_type": "markdown",
   "id": "f359bec3",
   "metadata": {},
   "source": [
    "# STEP10 Interpretation of how well the line appears to fit the data"
   ]
  },
  {
   "cell_type": "markdown",
   "id": "696115a2",
   "metadata": {},
   "source": [
    "When SQFT is smaller, the data is more compact (closer to the regression line); as SQFT increases, the data becomes more dispersed (farther from the regression line)."
   ]
  },
  {
   "cell_type": "markdown",
   "id": "67aea9ed",
   "metadata": {},
   "source": [
    "# STEP11 Check the model performance statistics"
   ]
  },
  {
   "cell_type": "code",
   "execution_count": 18,
   "id": "6fb3f1de",
   "metadata": {},
   "outputs": [],
   "source": [
    "rmse = mean_squared_error(y_test, y_predicted) # This is the mean squared error\n",
    "r2 = r2_score(y_test, y_predicted) # This is the R2 score. "
   ]
  },
  {
   "cell_type": "code",
   "execution_count": 19,
   "id": "f3505e2d",
   "metadata": {},
   "outputs": [
    {
     "name": "stdout",
     "output_type": "stream",
     "text": [
      "Slope: [[278.50893905]]\n",
      "Mean squared error:  70250068245.5529\n",
      "R2 score:  0.4889457082732054\n"
     ]
    }
   ],
   "source": [
    "print('Slope:' ,regression.coef_)\n",
    "print('Mean squared error: ', rmse)\n",
    "print('R2 score: ', r2)"
   ]
  },
  {
   "cell_type": "markdown",
   "id": "6720f52e",
   "metadata": {},
   "source": [
    "# STEP12 Compare the predicted y values with the actual y values"
   ]
  },
  {
   "cell_type": "code",
   "execution_count": 20,
   "id": "ae9509af",
   "metadata": {},
   "outputs": [
    {
     "data": {
      "text/html": [
       "<div>\n",
       "<style scoped>\n",
       "    .dataframe tbody tr th:only-of-type {\n",
       "        vertical-align: middle;\n",
       "    }\n",
       "\n",
       "    .dataframe tbody tr th {\n",
       "        vertical-align: top;\n",
       "    }\n",
       "\n",
       "    .dataframe thead th {\n",
       "        text-align: right;\n",
       "    }\n",
       "</style>\n",
       "<table border=\"1\" class=\"dataframe\">\n",
       "  <thead>\n",
       "    <tr style=\"text-align: right;\">\n",
       "      <th></th>\n",
       "      <th>Actual</th>\n",
       "      <th>Predicted</th>\n",
       "    </tr>\n",
       "  </thead>\n",
       "  <tbody>\n",
       "    <tr>\n",
       "      <th>0</th>\n",
       "      <td>297000.0</td>\n",
       "      <td>3.600927e+05</td>\n",
       "    </tr>\n",
       "    <tr>\n",
       "      <th>1</th>\n",
       "      <td>1580000.0</td>\n",
       "      <td>1.262462e+06</td>\n",
       "    </tr>\n",
       "    <tr>\n",
       "      <th>2</th>\n",
       "      <td>562100.0</td>\n",
       "      <td>3.628778e+05</td>\n",
       "    </tr>\n",
       "    <tr>\n",
       "      <th>3</th>\n",
       "      <td>631500.0</td>\n",
       "      <td>2.765400e+05</td>\n",
       "    </tr>\n",
       "    <tr>\n",
       "      <th>4</th>\n",
       "      <td>780000.0</td>\n",
       "      <td>8.474833e+05</td>\n",
       "    </tr>\n",
       "    <tr>\n",
       "      <th>5</th>\n",
       "      <td>485000.0</td>\n",
       "      <td>4.213646e+05</td>\n",
       "    </tr>\n",
       "    <tr>\n",
       "      <th>6</th>\n",
       "      <td>340000.0</td>\n",
       "      <td>4.408603e+05</td>\n",
       "    </tr>\n",
       "    <tr>\n",
       "      <th>7</th>\n",
       "      <td>335606.0</td>\n",
       "      <td>6.686806e+05</td>\n",
       "    </tr>\n",
       "    <tr>\n",
       "      <th>8</th>\n",
       "      <td>425000.0</td>\n",
       "      <td>6.469569e+05</td>\n",
       "    </tr>\n",
       "    <tr>\n",
       "      <th>9</th>\n",
       "      <td>490000.0</td>\n",
       "      <td>1.203975e+06</td>\n",
       "    </tr>\n",
       "    <tr>\n",
       "      <th>10</th>\n",
       "      <td>732000.0</td>\n",
       "      <td>6.191060e+05</td>\n",
       "    </tr>\n",
       "    <tr>\n",
       "      <th>11</th>\n",
       "      <td>389700.0</td>\n",
       "      <td>4.408603e+05</td>\n",
       "    </tr>\n",
       "    <tr>\n",
       "      <th>12</th>\n",
       "      <td>450000.0</td>\n",
       "      <td>2.459040e+05</td>\n",
       "    </tr>\n",
       "    <tr>\n",
       "      <th>13</th>\n",
       "      <td>357000.0</td>\n",
       "      <td>3.350269e+05</td>\n",
       "    </tr>\n",
       "    <tr>\n",
       "      <th>14</th>\n",
       "      <td>960000.0</td>\n",
       "      <td>8.474833e+05</td>\n",
       "    </tr>\n",
       "    <tr>\n",
       "      <th>15</th>\n",
       "      <td>257000.0</td>\n",
       "      <td>3.016058e+05</td>\n",
       "    </tr>\n",
       "    <tr>\n",
       "      <th>16</th>\n",
       "      <td>448000.0</td>\n",
       "      <td>3.879436e+05</td>\n",
       "    </tr>\n",
       "    <tr>\n",
       "      <th>17</th>\n",
       "      <td>610000.0</td>\n",
       "      <td>5.550489e+05</td>\n",
       "    </tr>\n",
       "    <tr>\n",
       "      <th>18</th>\n",
       "      <td>230950.0</td>\n",
       "      <td>2.208382e+05</td>\n",
       "    </tr>\n",
       "    <tr>\n",
       "      <th>19</th>\n",
       "      <td>377500.0</td>\n",
       "      <td>3.433821e+05</td>\n",
       "    </tr>\n",
       "    <tr>\n",
       "      <th>20</th>\n",
       "      <td>375000.0</td>\n",
       "      <td>4.269348e+05</td>\n",
       "    </tr>\n",
       "    <tr>\n",
       "      <th>21</th>\n",
       "      <td>410000.0</td>\n",
       "      <td>5.801147e+05</td>\n",
       "    </tr>\n",
       "    <tr>\n",
       "      <th>22</th>\n",
       "      <td>459000.0</td>\n",
       "      <td>4.909919e+05</td>\n",
       "    </tr>\n",
       "    <tr>\n",
       "      <th>23</th>\n",
       "      <td>190000.0</td>\n",
       "      <td>2.681847e+05</td>\n",
       "    </tr>\n",
       "    <tr>\n",
       "      <th>24</th>\n",
       "      <td>585000.0</td>\n",
       "      <td>6.218911e+05</td>\n",
       "    </tr>\n",
       "    <tr>\n",
       "      <th>25</th>\n",
       "      <td>280000.0</td>\n",
       "      <td>2.681847e+05</td>\n",
       "    </tr>\n",
       "    <tr>\n",
       "      <th>26</th>\n",
       "      <td>500000.0</td>\n",
       "      <td>3.879436e+05</td>\n",
       "    </tr>\n",
       "    <tr>\n",
       "      <th>27</th>\n",
       "      <td>465000.0</td>\n",
       "      <td>4.185796e+05</td>\n",
       "    </tr>\n",
       "    <tr>\n",
       "      <th>28</th>\n",
       "      <td>802000.0</td>\n",
       "      <td>5.494788e+05</td>\n",
       "    </tr>\n",
       "    <tr>\n",
       "      <th>29</th>\n",
       "      <td>440000.0</td>\n",
       "      <td>4.325050e+05</td>\n",
       "    </tr>\n",
       "  </tbody>\n",
       "</table>\n",
       "</div>"
      ],
      "text/plain": [
       "       Actual     Predicted\n",
       "0    297000.0  3.600927e+05\n",
       "1   1580000.0  1.262462e+06\n",
       "2    562100.0  3.628778e+05\n",
       "3    631500.0  2.765400e+05\n",
       "4    780000.0  8.474833e+05\n",
       "5    485000.0  4.213646e+05\n",
       "6    340000.0  4.408603e+05\n",
       "7    335606.0  6.686806e+05\n",
       "8    425000.0  6.469569e+05\n",
       "9    490000.0  1.203975e+06\n",
       "10   732000.0  6.191060e+05\n",
       "11   389700.0  4.408603e+05\n",
       "12   450000.0  2.459040e+05\n",
       "13   357000.0  3.350269e+05\n",
       "14   960000.0  8.474833e+05\n",
       "15   257000.0  3.016058e+05\n",
       "16   448000.0  3.879436e+05\n",
       "17   610000.0  5.550489e+05\n",
       "18   230950.0  2.208382e+05\n",
       "19   377500.0  3.433821e+05\n",
       "20   375000.0  4.269348e+05\n",
       "21   410000.0  5.801147e+05\n",
       "22   459000.0  4.909919e+05\n",
       "23   190000.0  2.681847e+05\n",
       "24   585000.0  6.218911e+05\n",
       "25   280000.0  2.681847e+05\n",
       "26   500000.0  3.879436e+05\n",
       "27   465000.0  4.185796e+05\n",
       "28   802000.0  5.494788e+05\n",
       "29   440000.0  4.325050e+05"
      ]
     },
     "execution_count": 20,
     "metadata": {},
     "output_type": "execute_result"
    }
   ],
   "source": [
    "data = pd.DataFrame({'Actual': y_test.flatten(), 'Predicted': y_predicted.flatten()})\n",
    "data.head(30)"
   ]
  },
  {
   "cell_type": "markdown",
   "id": "3d2f7d6b",
   "metadata": {},
   "source": [
    "# STEP13 How well the model performed"
   ]
  },
  {
   "cell_type": "markdown",
   "id": "2afa0ed6",
   "metadata": {},
   "source": [
    "The R2 value is only 0.48, indicating that the model's fit is not very good."
   ]
  },
  {
   "cell_type": "markdown",
   "id": "515c5dd7",
   "metadata": {},
   "source": [
    "Upon observation, there are only 6 points where SQFT is greater than 9000, and their prices are significantly higher than other houses. You can choose to exclude these points and see if it improves the model."
   ]
  },
  {
   "cell_type": "code",
   "execution_count": 22,
   "id": "344a5c45",
   "metadata": {},
   "outputs": [
    {
     "data": {
      "text/html": [
       "<div>\n",
       "<style scoped>\n",
       "    .dataframe tbody tr th:only-of-type {\n",
       "        vertical-align: middle;\n",
       "    }\n",
       "\n",
       "    .dataframe tbody tr th {\n",
       "        vertical-align: top;\n",
       "    }\n",
       "\n",
       "    .dataframe thead th {\n",
       "        text-align: right;\n",
       "    }\n",
       "</style>\n",
       "<table border=\"1\" class=\"dataframe\">\n",
       "  <thead>\n",
       "    <tr style=\"text-align: right;\">\n",
       "      <th></th>\n",
       "      <th>Unnamed: 0</th>\n",
       "      <th>id</th>\n",
       "      <th>date</th>\n",
       "      <th>price</th>\n",
       "      <th>bedrooms</th>\n",
       "      <th>bathrooms</th>\n",
       "      <th>sqft_living</th>\n",
       "      <th>sqft_lot</th>\n",
       "      <th>floors</th>\n",
       "      <th>waterfront</th>\n",
       "      <th>view</th>\n",
       "      <th>condition</th>\n",
       "      <th>grade</th>\n",
       "      <th>sqft_above</th>\n",
       "      <th>sqft_basement</th>\n",
       "      <th>yr_built</th>\n",
       "      <th>yr_renovated</th>\n",
       "      <th>zipcode</th>\n",
       "      <th>lat</th>\n",
       "      <th>long</th>\n",
       "    </tr>\n",
       "  </thead>\n",
       "  <tbody>\n",
       "    <tr>\n",
       "      <th>3914</th>\n",
       "      <td>3914</td>\n",
       "      <td>9808700762</td>\n",
       "      <td>20140611T000000</td>\n",
       "      <td>7060000.0</td>\n",
       "      <td>5</td>\n",
       "      <td>4.50</td>\n",
       "      <td>10040</td>\n",
       "      <td>37325</td>\n",
       "      <td>2.0</td>\n",
       "      <td>1</td>\n",
       "      <td>2</td>\n",
       "      <td>3</td>\n",
       "      <td>11</td>\n",
       "      <td>7680</td>\n",
       "      <td>2360</td>\n",
       "      <td>1940</td>\n",
       "      <td>2001</td>\n",
       "      <td>98004</td>\n",
       "      <td>47.6500</td>\n",
       "      <td>-122.214</td>\n",
       "    </tr>\n",
       "    <tr>\n",
       "      <th>4411</th>\n",
       "      <td>4411</td>\n",
       "      <td>2470100110</td>\n",
       "      <td>20140804T000000</td>\n",
       "      <td>5570000.0</td>\n",
       "      <td>5</td>\n",
       "      <td>5.75</td>\n",
       "      <td>9200</td>\n",
       "      <td>35069</td>\n",
       "      <td>2.0</td>\n",
       "      <td>0</td>\n",
       "      <td>0</td>\n",
       "      <td>3</td>\n",
       "      <td>13</td>\n",
       "      <td>6200</td>\n",
       "      <td>3000</td>\n",
       "      <td>2001</td>\n",
       "      <td>0</td>\n",
       "      <td>98039</td>\n",
       "      <td>47.6289</td>\n",
       "      <td>-122.233</td>\n",
       "    </tr>\n",
       "    <tr>\n",
       "      <th>7252</th>\n",
       "      <td>7252</td>\n",
       "      <td>6762700020</td>\n",
       "      <td>20141013T000000</td>\n",
       "      <td>7700000.0</td>\n",
       "      <td>6</td>\n",
       "      <td>8.00</td>\n",
       "      <td>12050</td>\n",
       "      <td>27600</td>\n",
       "      <td>2.5</td>\n",
       "      <td>0</td>\n",
       "      <td>3</td>\n",
       "      <td>4</td>\n",
       "      <td>13</td>\n",
       "      <td>8570</td>\n",
       "      <td>3480</td>\n",
       "      <td>1910</td>\n",
       "      <td>1987</td>\n",
       "      <td>98102</td>\n",
       "      <td>47.6298</td>\n",
       "      <td>-122.323</td>\n",
       "    </tr>\n",
       "    <tr>\n",
       "      <th>8092</th>\n",
       "      <td>8092</td>\n",
       "      <td>1924059029</td>\n",
       "      <td>20140617T000000</td>\n",
       "      <td>4670000.0</td>\n",
       "      <td>5</td>\n",
       "      <td>6.75</td>\n",
       "      <td>9640</td>\n",
       "      <td>13068</td>\n",
       "      <td>1.0</td>\n",
       "      <td>1</td>\n",
       "      <td>4</td>\n",
       "      <td>3</td>\n",
       "      <td>12</td>\n",
       "      <td>4820</td>\n",
       "      <td>4820</td>\n",
       "      <td>1983</td>\n",
       "      <td>2009</td>\n",
       "      <td>98040</td>\n",
       "      <td>47.5570</td>\n",
       "      <td>-122.210</td>\n",
       "    </tr>\n",
       "    <tr>\n",
       "      <th>9254</th>\n",
       "      <td>9254</td>\n",
       "      <td>9208900037</td>\n",
       "      <td>20140919T000000</td>\n",
       "      <td>6890000.0</td>\n",
       "      <td>6</td>\n",
       "      <td>7.75</td>\n",
       "      <td>9890</td>\n",
       "      <td>31374</td>\n",
       "      <td>2.0</td>\n",
       "      <td>0</td>\n",
       "      <td>4</td>\n",
       "      <td>3</td>\n",
       "      <td>13</td>\n",
       "      <td>8860</td>\n",
       "      <td>1030</td>\n",
       "      <td>2001</td>\n",
       "      <td>0</td>\n",
       "      <td>98039</td>\n",
       "      <td>47.6305</td>\n",
       "      <td>-122.240</td>\n",
       "    </tr>\n",
       "    <tr>\n",
       "      <th>12777</th>\n",
       "      <td>12777</td>\n",
       "      <td>1225069038</td>\n",
       "      <td>20140505T000000</td>\n",
       "      <td>2280000.0</td>\n",
       "      <td>7</td>\n",
       "      <td>8.00</td>\n",
       "      <td>13540</td>\n",
       "      <td>307752</td>\n",
       "      <td>3.0</td>\n",
       "      <td>0</td>\n",
       "      <td>4</td>\n",
       "      <td>3</td>\n",
       "      <td>12</td>\n",
       "      <td>9410</td>\n",
       "      <td>4130</td>\n",
       "      <td>1999</td>\n",
       "      <td>0</td>\n",
       "      <td>98053</td>\n",
       "      <td>47.6675</td>\n",
       "      <td>-121.986</td>\n",
       "    </tr>\n",
       "  </tbody>\n",
       "</table>\n",
       "</div>"
      ],
      "text/plain": [
       "       Unnamed: 0          id             date      price  bedrooms  \\\n",
       "3914         3914  9808700762  20140611T000000  7060000.0         5   \n",
       "4411         4411  2470100110  20140804T000000  5570000.0         5   \n",
       "7252         7252  6762700020  20141013T000000  7700000.0         6   \n",
       "8092         8092  1924059029  20140617T000000  4670000.0         5   \n",
       "9254         9254  9208900037  20140919T000000  6890000.0         6   \n",
       "12777       12777  1225069038  20140505T000000  2280000.0         7   \n",
       "\n",
       "       bathrooms  sqft_living  sqft_lot  floors  waterfront  view  condition  \\\n",
       "3914        4.50        10040     37325     2.0           1     2          3   \n",
       "4411        5.75         9200     35069     2.0           0     0          3   \n",
       "7252        8.00        12050     27600     2.5           0     3          4   \n",
       "8092        6.75         9640     13068     1.0           1     4          3   \n",
       "9254        7.75         9890     31374     2.0           0     4          3   \n",
       "12777       8.00        13540    307752     3.0           0     4          3   \n",
       "\n",
       "       grade  sqft_above  sqft_basement  yr_built  yr_renovated  zipcode  \\\n",
       "3914      11        7680           2360      1940          2001    98004   \n",
       "4411      13        6200           3000      2001             0    98039   \n",
       "7252      13        8570           3480      1910          1987    98102   \n",
       "8092      12        4820           4820      1983          2009    98040   \n",
       "9254      13        8860           1030      2001             0    98039   \n",
       "12777     12        9410           4130      1999             0    98053   \n",
       "\n",
       "           lat     long  \n",
       "3914   47.6500 -122.214  \n",
       "4411   47.6289 -122.233  \n",
       "7252   47.6298 -122.323  \n",
       "8092   47.5570 -122.210  \n",
       "9254   47.6305 -122.240  \n",
       "12777  47.6675 -121.986  "
      ]
     },
     "execution_count": 22,
     "metadata": {},
     "output_type": "execute_result"
    }
   ],
   "source": [
    "df[df['sqft_living'] >9000]"
   ]
  },
  {
   "cell_type": "code",
   "execution_count": 23,
   "id": "abeff370",
   "metadata": {},
   "outputs": [],
   "source": [
    "df_9 = df[df['sqft_living'] < 9000] "
   ]
  },
  {
   "cell_type": "code",
   "execution_count": 24,
   "id": "46e5a77a",
   "metadata": {},
   "outputs": [],
   "source": [
    "X1 = df_9['sqft_living'].values.reshape(-1,1)\n",
    "y1 = df_9['price'].values.reshape(-1,1)"
   ]
  },
  {
   "cell_type": "code",
   "execution_count": 25,
   "id": "a10d28b3",
   "metadata": {},
   "outputs": [],
   "source": [
    "X_train1, X_test1, y_train1, y_test1 = train_test_split(X1, y1, test_size=0.3, random_state=0)"
   ]
  },
  {
   "cell_type": "code",
   "execution_count": 27,
   "id": "45cb3a88",
   "metadata": {},
   "outputs": [
    {
     "data": {
      "text/plain": [
       "LinearRegression()"
      ]
     },
     "execution_count": 27,
     "metadata": {},
     "output_type": "execute_result"
    }
   ],
   "source": [
    "regression.fit(X_train1, y_train1)"
   ]
  },
  {
   "cell_type": "code",
   "execution_count": 28,
   "id": "7bb3a115",
   "metadata": {},
   "outputs": [],
   "source": [
    "y_predicted1 = regression.predict(X_test1)"
   ]
  },
  {
   "cell_type": "code",
   "execution_count": 29,
   "id": "68d98dc3",
   "metadata": {},
   "outputs": [],
   "source": [
    "rmse1 = mean_squared_error(y_test1, y_predicted1) # This is the mean squared error\n",
    "r2_1 = r2_score(y_test1, y_predicted1) # This is the R2 score. "
   ]
  },
  {
   "cell_type": "code",
   "execution_count": 31,
   "id": "33645635",
   "metadata": {},
   "outputs": [
    {
     "name": "stdout",
     "output_type": "stream",
     "text": [
      "Slope: [[276.06652358]]\n",
      "Mean squared error:  60997161035.91043\n",
      "R2 score:  0.48819362111458986\n"
     ]
    }
   ],
   "source": [
    "print('Slope:' ,regression.coef_)\n",
    "print('Mean squared error: ', rmse1)\n",
    "print('R2 score: ', r2_1)"
   ]
  },
  {
   "cell_type": "markdown",
   "id": "ab778b6a",
   "metadata": {},
   "source": [
    "The results indicate that this does not improve the model's fit."
   ]
  },
  {
   "cell_type": "markdown",
   "id": "8ebe690e",
   "metadata": {},
   "source": [
    "Since the data is more compact when SQFT is smaller, let's try limiting SQFT to below 4000 and see how the model performs."
   ]
  },
  {
   "cell_type": "code",
   "execution_count": 32,
   "id": "75137998",
   "metadata": {},
   "outputs": [],
   "source": [
    "df_4 = df[df['sqft_living'] < 4000] "
   ]
  },
  {
   "cell_type": "code",
   "execution_count": 33,
   "id": "b3cee323",
   "metadata": {},
   "outputs": [],
   "source": [
    "X2 = df_4['sqft_living'].values.reshape(-1,1)\n",
    "y2 = df_4['price'].values.reshape(-1,1)"
   ]
  },
  {
   "cell_type": "code",
   "execution_count": 34,
   "id": "0b3e1672",
   "metadata": {},
   "outputs": [],
   "source": [
    "X_train2, X_test2, y_train2, y_test2 = train_test_split(X2, y2, test_size=0.3, random_state=0)"
   ]
  },
  {
   "cell_type": "code",
   "execution_count": 35,
   "id": "b5a3ef02",
   "metadata": {},
   "outputs": [
    {
     "data": {
      "text/plain": [
       "LinearRegression()"
      ]
     },
     "execution_count": 35,
     "metadata": {},
     "output_type": "execute_result"
    }
   ],
   "source": [
    "regression.fit(X_train2, y_train2)"
   ]
  },
  {
   "cell_type": "code",
   "execution_count": 36,
   "id": "3835449c",
   "metadata": {},
   "outputs": [],
   "source": [
    "y_predicted2 = regression.predict(X_test2)"
   ]
  },
  {
   "cell_type": "code",
   "execution_count": 37,
   "id": "6d1bc7cf",
   "metadata": {},
   "outputs": [],
   "source": [
    "rmse2 = mean_squared_error(y_test2, y_predicted2) # This is the mean squared error\n",
    "r2_2 = r2_score(y_test2, y_predicted2) # This is the R2 score. "
   ]
  },
  {
   "cell_type": "code",
   "execution_count": 38,
   "id": "1b529c46",
   "metadata": {},
   "outputs": [
    {
     "name": "stdout",
     "output_type": "stream",
     "text": [
      "Slope: [[224.65381756]]\n",
      "Mean squared error:  45650721959.85643\n",
      "R2 score:  0.38310510813317245\n"
     ]
    }
   ],
   "source": [
    "print('Slope:' ,regression.coef_)\n",
    "print('Mean squared error: ', rmse2)\n",
    "print('R2 score: ', r2_2)"
   ]
  },
  {
   "cell_type": "markdown",
   "id": "c01e974c",
   "metadata": {},
   "source": [
    "The results show that even for data where SQFT is less than 4000, the model's performance is still not very good. Therefore, the linear relationship of the single variable SQFT cannot accurately predict housing prices."
   ]
  },
  {
   "cell_type": "code",
   "execution_count": null,
   "id": "a294820b",
   "metadata": {},
   "outputs": [],
   "source": []
  }
 ],
 "metadata": {
  "kernelspec": {
   "display_name": "Python 3 (ipykernel)",
   "language": "python",
   "name": "python3"
  },
  "language_info": {
   "codemirror_mode": {
    "name": "ipython",
    "version": 3
   },
   "file_extension": ".py",
   "mimetype": "text/x-python",
   "name": "python",
   "nbconvert_exporter": "python",
   "pygments_lexer": "ipython3",
   "version": "3.9.7"
  },
  "toc": {
   "base_numbering": 1,
   "nav_menu": {},
   "number_sections": true,
   "sideBar": true,
   "skip_h1_title": false,
   "title_cell": "Table of Contents",
   "title_sidebar": "Contents",
   "toc_cell": false,
   "toc_position": {},
   "toc_section_display": true,
   "toc_window_display": false
  }
 },
 "nbformat": 4,
 "nbformat_minor": 5
}
